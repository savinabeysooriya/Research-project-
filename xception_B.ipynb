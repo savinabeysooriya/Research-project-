{
  "nbformat": 4,
  "nbformat_minor": 0,
  "metadata": {
    "colab": {
      "name": "xception_B.ipynb",
      "provenance": [],
      "collapsed_sections": []
    },
    "kernelspec": {
      "display_name": "Python 3",
      "name": "python3"
    }
  },
  "cells": [
    {
      "cell_type": "code",
      "metadata": {
        "id": "OGx39zr2OZri"
      },
      "source": [
        "from keras.applications.xception import Xception\n",
        "from keras.preprocessing import image \n",
        "import tensorflow as tf \n",
        "import numpy as np\n",
        "import os\n",
        "from keras.applications.imagenet_utils import preprocess_input\n",
        "from keras.applications.imagenet_utils import decode_predictions\n",
        "from keras.preprocessing.image import ImageDataGenerator\n",
        "import matplotlib.pyplot as plt"
      ],
      "execution_count": 4,
      "outputs": []
    },
    {
      "cell_type": "code",
      "metadata": {
        "id": "1R5dtZS6iqPw"
      },
      "source": [
        "data_path = '/content/drive/MyDrive/A_Research_Project/Dataset/Dataset_B'\n",
        "data_dir_list = os.listdir(data_path)"
      ],
      "execution_count": 5,
      "outputs": []
    },
    {
      "cell_type": "code",
      "metadata": {
        "id": "tVd3XRPSiscR"
      },
      "source": [
        "img_data_list = []\n",
        "\n",
        "for dataclass in data_dir_list:\n",
        "  img_list = os.listdir(data_path+\"/\"+dataclass)\n",
        "  for img in img_list:\n",
        "    img_path = data_path+\"/\"+dataclass+\"/\"+img\n",
        "    img=image.load_img(img_path, target_size=(224, 224))\n",
        "    x=image.img_to_array(img)\n",
        "    x=np.expand_dims(x,axis=0)\n",
        "    x=preprocess_input(x)\n",
        "    img_data_list.append(x)\n",
        "\n",
        "img_data=np.array(img_data_list)"
      ],
      "execution_count": 6,
      "outputs": []
    },
    {
      "cell_type": "code",
      "metadata": {
        "id": "912Ng3Udiu6f"
      },
      "source": [
        "img_data=np.rollaxis(img_data,1,0)\n",
        "img_data= img_data[0]"
      ],
      "execution_count": 7,
      "outputs": []
    },
    {
      "cell_type": "code",
      "metadata": {
        "id": "lCyW3KZM-zP5"
      },
      "source": [
        "num_classes=2\n",
        "num_of_sample=646\n",
        "labels=np.ones(646,dtype='int64')"
      ],
      "execution_count": 8,
      "outputs": []
    },
    {
      "cell_type": "code",
      "metadata": {
        "id": "4KlVT_AbjPsZ"
      },
      "source": [
        "labels[0:437]=0\n",
        "labels[437:646]=1\n",
        "\n",
        "names=['benign', 'malignant']"
      ],
      "execution_count": 9,
      "outputs": []
    },
    {
      "cell_type": "code",
      "metadata": {
        "id": "HeAuQT_yjQYv"
      },
      "source": [
        "from keras.utils import np_utils\n",
        "Y=np_utils.to_categorical(labels, num_classes)"
      ],
      "execution_count": 11,
      "outputs": []
    },
    {
      "cell_type": "code",
      "metadata": {
        "id": "cuAEPGE8jQTu"
      },
      "source": [
        "from sklearn.utils import shuffle\n",
        "x,y = shuffle(img_data, Y, random_state=2)"
      ],
      "execution_count": 12,
      "outputs": []
    },
    {
      "cell_type": "code",
      "metadata": {
        "id": "UPUbU3nUjXC4"
      },
      "source": [
        "from sklearn.model_selection import train_test_split\n",
        "X_train,X_test,y_train,y_test = train_test_split(x,y,test_size=0.2,random_state=2)"
      ],
      "execution_count": 13,
      "outputs": []
    },
    {
      "cell_type": "code",
      "metadata": {
        "id": "O9Ofi20ZjZ7H"
      },
      "source": [
        "from keras.layers import Input, Dense, Flatten\n",
        "from keras.models import Model"
      ],
      "execution_count": 14,
      "outputs": []
    },
    {
      "cell_type": "code",
      "metadata": {
        "id": "fX4MsKltjvNX"
      },
      "source": [
        "image_input = Input(shape=(224,224,3))"
      ],
      "execution_count": null,
      "outputs": []
    },
    {
      "cell_type": "code",
      "metadata": {
        "colab": {
          "base_uri": "https://localhost:8080/"
        },
        "id": "hpR8ksy5jvum",
        "outputId": "2c2a4ec6-06ad-4783-aa3a-3ef98827cf93"
      },
      "source": [
        "xception = Xception(input_tensor=image_input, weights='imagenet', include_top=False)"
      ],
      "execution_count": null,
      "outputs": [
        {
          "output_type": "stream",
          "text": [
            "Downloading data from https://storage.googleapis.com/tensorflow/keras-applications/xception/xception_weights_tf_dim_ordering_tf_kernels_notop.h5\n",
            "83689472/83683744 [==============================] - 0s 0us/step\n"
          ],
          "name": "stdout"
        }
      ]
    },
    {
      "cell_type": "code",
      "metadata": {
        "id": "_2vAHA49jyQB"
      },
      "source": [
        "for layer in xception.layers:\n",
        "  layer.trainable = False"
      ],
      "execution_count": null,
      "outputs": []
    },
    {
      "cell_type": "code",
      "metadata": {
        "id": "ldByIYGgj0jZ"
      },
      "source": [
        "x = Flatten()(xception.output)"
      ],
      "execution_count": null,
      "outputs": []
    },
    {
      "cell_type": "code",
      "metadata": {
        "id": "vEisokmuj3_I"
      },
      "source": [
        "prediction = Dense(2, activation='sigmoid')(x)"
      ],
      "execution_count": null,
      "outputs": []
    },
    {
      "cell_type": "code",
      "metadata": {
        "id": "Fiijm2nKj-Rh"
      },
      "source": [
        "model = Model(inputs=xception.input, outputs=prediction)"
      ],
      "execution_count": null,
      "outputs": []
    },
    {
      "cell_type": "code",
      "metadata": {
        "id": "PpooTkIFkCFn"
      },
      "source": [
        "model.compile(loss='binary_crossentropy', optimizer='adam', metrics=['accuracy'])"
      ],
      "execution_count": null,
      "outputs": []
    },
    {
      "cell_type": "code",
      "metadata": {
        "id": "RgBrm6qlkCsA"
      },
      "source": [
        "xy_train_datagen = ImageDataGenerator(rescale = 1./255, \n",
        "                                    shear_range = 0.2,\n",
        "                                    zoom_range = 0.2,\n",
        "                                    horizontal_flip = True)"
      ],
      "execution_count": null,
      "outputs": []
    },
    {
      "cell_type": "code",
      "metadata": {
        "id": "m-p8HnIckEW6"
      },
      "source": [
        "xy_test_datagen = ImageDataGenerator(rescale = 1./255)"
      ],
      "execution_count": null,
      "outputs": []
    },
    {
      "cell_type": "code",
      "metadata": {
        "id": "gFB-I1dDkF9o"
      },
      "source": [
        "training_set = xy_train_datagen.flow( X_train, y_train)"
      ],
      "execution_count": null,
      "outputs": []
    },
    {
      "cell_type": "code",
      "metadata": {
        "id": "7BWbFlBdkK5n"
      },
      "source": [
        "test_set = xy_test_datagen.flow(X_test, y_test)                                           "
      ],
      "execution_count": null,
      "outputs": []
    },
    {
      "cell_type": "code",
      "metadata": {
        "colab": {
          "base_uri": "https://localhost:8080/"
        },
        "id": "e_KE-zrbkVX7",
        "outputId": "c48a0dac-59cc-443f-9451-fbc0a2fc4743"
      },
      "source": [
        "r =model.fit_generator(training_set,  epochs=100,  steps_per_epoch= 17, validation_data=test_set)"
      ],
      "execution_count": null,
      "outputs": [
        {
          "output_type": "stream",
          "text": [
            "WARNING:tensorflow:From <ipython-input-22-b8bd799ea6e5>:1: Model.fit_generator (from tensorflow.python.keras.engine.training) is deprecated and will be removed in a future version.\n",
            "Instructions for updating:\n",
            "Please use Model.fit, which supports generators.\n",
            "Epoch 1/100\n",
            "17/17 [==============================] - 122s 7s/step - loss: 2.0870 - accuracy: 0.6492 - val_loss: 0.9608 - val_accuracy: 0.6846\n",
            "Epoch 2/100\n",
            "17/17 [==============================] - 122s 7s/step - loss: 0.8458 - accuracy: 0.7926 - val_loss: 1.6587 - val_accuracy: 0.6308\n",
            "Epoch 3/100\n",
            "17/17 [==============================] - 122s 7s/step - loss: 0.6734 - accuracy: 0.7888 - val_loss: 0.5477 - val_accuracy: 0.8231\n",
            "Epoch 4/100\n",
            "17/17 [==============================] - 128s 8s/step - loss: 0.4213 - accuracy: 0.8760 - val_loss: 0.8061 - val_accuracy: 0.7231\n",
            "Epoch 5/100\n",
            "17/17 [==============================] - 123s 7s/step - loss: 0.3211 - accuracy: 0.8721 - val_loss: 0.4726 - val_accuracy: 0.8154\n",
            "Epoch 6/100\n",
            "17/17 [==============================] - 129s 8s/step - loss: 0.2706 - accuracy: 0.8992 - val_loss: 0.3977 - val_accuracy: 0.8538\n",
            "Epoch 7/100\n",
            "17/17 [==============================] - 123s 7s/step - loss: 0.2493 - accuracy: 0.9050 - val_loss: 0.4181 - val_accuracy: 0.8538\n",
            "Epoch 8/100\n",
            "17/17 [==============================] - 123s 7s/step - loss: 0.2607 - accuracy: 0.9089 - val_loss: 0.4173 - val_accuracy: 0.8385\n",
            "Epoch 9/100\n",
            "17/17 [==============================] - 123s 7s/step - loss: 0.3907 - accuracy: 0.8411 - val_loss: 0.6894 - val_accuracy: 0.7923\n",
            "Epoch 10/100\n",
            "17/17 [==============================] - 123s 7s/step - loss: 0.2253 - accuracy: 0.9186 - val_loss: 0.5919 - val_accuracy: 0.8154\n",
            "Epoch 11/100\n",
            "17/17 [==============================] - 123s 7s/step - loss: 0.2061 - accuracy: 0.9186 - val_loss: 0.6525 - val_accuracy: 0.7923\n",
            "Epoch 12/100\n",
            "17/17 [==============================] - 123s 7s/step - loss: 0.2079 - accuracy: 0.9186 - val_loss: 0.5074 - val_accuracy: 0.8538\n",
            "Epoch 13/100\n",
            "17/17 [==============================] - 123s 7s/step - loss: 0.3669 - accuracy: 0.8798 - val_loss: 0.5388 - val_accuracy: 0.8538\n",
            "Epoch 14/100\n",
            "17/17 [==============================] - 122s 7s/step - loss: 0.2915 - accuracy: 0.9050 - val_loss: 0.5096 - val_accuracy: 0.8615\n",
            "Epoch 15/100\n",
            "17/17 [==============================] - 123s 7s/step - loss: 0.2328 - accuracy: 0.9109 - val_loss: 0.6026 - val_accuracy: 0.8000\n",
            "Epoch 16/100\n",
            "17/17 [==============================] - 128s 8s/step - loss: 0.2038 - accuracy: 0.9283 - val_loss: 0.6029 - val_accuracy: 0.8154\n",
            "Epoch 17/100\n",
            "17/17 [==============================] - 123s 7s/step - loss: 0.1955 - accuracy: 0.9419 - val_loss: 0.5244 - val_accuracy: 0.8231\n",
            "Epoch 18/100\n",
            "17/17 [==============================] - 123s 7s/step - loss: 0.1681 - accuracy: 0.9457 - val_loss: 0.4664 - val_accuracy: 0.8538\n",
            "Epoch 19/100\n",
            "17/17 [==============================] - 123s 7s/step - loss: 0.1248 - accuracy: 0.9399 - val_loss: 0.5490 - val_accuracy: 0.8462\n",
            "Epoch 20/100\n",
            "17/17 [==============================] - 122s 7s/step - loss: 0.1673 - accuracy: 0.9380 - val_loss: 0.7309 - val_accuracy: 0.7923\n",
            "Epoch 21/100\n",
            "17/17 [==============================] - 122s 7s/step - loss: 0.1545 - accuracy: 0.9612 - val_loss: 0.4867 - val_accuracy: 0.8769\n",
            "Epoch 22/100\n",
            "17/17 [==============================] - 128s 8s/step - loss: 0.1335 - accuracy: 0.9477 - val_loss: 0.4484 - val_accuracy: 0.8692\n",
            "Epoch 23/100\n",
            "17/17 [==============================] - 122s 7s/step - loss: 0.1537 - accuracy: 0.9360 - val_loss: 0.7329 - val_accuracy: 0.7692\n",
            "Epoch 24/100\n",
            "17/17 [==============================] - 122s 7s/step - loss: 0.1728 - accuracy: 0.9360 - val_loss: 1.0616 - val_accuracy: 0.8385\n",
            "Epoch 25/100\n",
            "17/17 [==============================] - 122s 7s/step - loss: 0.2922 - accuracy: 0.8992 - val_loss: 0.6331 - val_accuracy: 0.8308\n",
            "Epoch 26/100\n",
            "17/17 [==============================] - 123s 7s/step - loss: 0.1390 - accuracy: 0.9554 - val_loss: 0.5796 - val_accuracy: 0.8154\n",
            "Epoch 27/100\n",
            "17/17 [==============================] - 122s 7s/step - loss: 0.0821 - accuracy: 0.9729 - val_loss: 0.5261 - val_accuracy: 0.8308\n",
            "Epoch 28/100\n",
            "17/17 [==============================] - 122s 7s/step - loss: 0.1489 - accuracy: 0.9419 - val_loss: 0.5675 - val_accuracy: 0.8154\n",
            "Epoch 29/100\n",
            "17/17 [==============================] - 127s 7s/step - loss: 0.1834 - accuracy: 0.9457 - val_loss: 0.5763 - val_accuracy: 0.8385\n",
            "Epoch 30/100\n",
            "17/17 [==============================] - 122s 7s/step - loss: 0.1001 - accuracy: 0.9612 - val_loss: 0.6812 - val_accuracy: 0.8000\n",
            "Epoch 31/100\n",
            "17/17 [==============================] - 122s 7s/step - loss: 0.1447 - accuracy: 0.9574 - val_loss: 0.6141 - val_accuracy: 0.8462\n",
            "Epoch 32/100\n",
            "17/17 [==============================] - 122s 7s/step - loss: 0.1552 - accuracy: 0.9419 - val_loss: 0.6301 - val_accuracy: 0.8385\n",
            "Epoch 33/100\n",
            "17/17 [==============================] - 122s 7s/step - loss: 0.2491 - accuracy: 0.9283 - val_loss: 0.7157 - val_accuracy: 0.8000\n",
            "Epoch 34/100\n",
            "17/17 [==============================] - 122s 7s/step - loss: 0.1357 - accuracy: 0.9651 - val_loss: 0.5976 - val_accuracy: 0.8154\n",
            "Epoch 35/100\n",
            "17/17 [==============================] - 122s 7s/step - loss: 0.0935 - accuracy: 0.9651 - val_loss: 0.5524 - val_accuracy: 0.8308\n",
            "Epoch 36/100\n",
            "17/17 [==============================] - 122s 7s/step - loss: 0.0797 - accuracy: 0.9767 - val_loss: 0.6004 - val_accuracy: 0.8231\n",
            "Epoch 37/100\n",
            "17/17 [==============================] - 121s 7s/step - loss: 0.1081 - accuracy: 0.9690 - val_loss: 0.6134 - val_accuracy: 0.8154\n",
            "Epoch 38/100\n",
            "17/17 [==============================] - 127s 7s/step - loss: 0.1196 - accuracy: 0.9748 - val_loss: 0.6353 - val_accuracy: 0.8154\n",
            "Epoch 39/100\n",
            "17/17 [==============================] - 120s 7s/step - loss: 0.1298 - accuracy: 0.9574 - val_loss: 0.6738 - val_accuracy: 0.8231\n",
            "Epoch 40/100\n",
            "17/17 [==============================] - 122s 7s/step - loss: 0.2348 - accuracy: 0.9360 - val_loss: 0.8332 - val_accuracy: 0.8231\n",
            "Epoch 41/100\n",
            "17/17 [==============================] - 122s 7s/step - loss: 0.1667 - accuracy: 0.9554 - val_loss: 0.7319 - val_accuracy: 0.8385\n",
            "Epoch 42/100\n",
            "17/17 [==============================] - 122s 7s/step - loss: 0.1194 - accuracy: 0.9671 - val_loss: 0.7386 - val_accuracy: 0.8308\n",
            "Epoch 43/100\n",
            "17/17 [==============================] - 122s 7s/step - loss: 0.1347 - accuracy: 0.9651 - val_loss: 0.6134 - val_accuracy: 0.8462\n",
            "Epoch 44/100\n",
            "17/17 [==============================] - 122s 7s/step - loss: 0.1647 - accuracy: 0.9651 - val_loss: 0.8581 - val_accuracy: 0.8538\n",
            "Epoch 45/100\n",
            "17/17 [==============================] - 122s 7s/step - loss: 0.1447 - accuracy: 0.9632 - val_loss: 0.8542 - val_accuracy: 0.8462\n",
            "Epoch 46/100\n",
            "17/17 [==============================] - 122s 7s/step - loss: 0.3472 - accuracy: 0.9128 - val_loss: 0.6300 - val_accuracy: 0.8308\n",
            "Epoch 47/100\n",
            "17/17 [==============================] - 122s 7s/step - loss: 0.1447 - accuracy: 0.9574 - val_loss: 0.6417 - val_accuracy: 0.8538\n",
            "Epoch 48/100\n",
            "17/17 [==============================] - 122s 7s/step - loss: 0.0880 - accuracy: 0.9748 - val_loss: 0.6431 - val_accuracy: 0.8538\n",
            "Epoch 49/100\n",
            "17/17 [==============================] - 122s 7s/step - loss: 0.2108 - accuracy: 0.9574 - val_loss: 0.7051 - val_accuracy: 0.8692\n",
            "Epoch 50/100\n",
            "17/17 [==============================] - 122s 7s/step - loss: 0.1186 - accuracy: 0.9671 - val_loss: 0.7780 - val_accuracy: 0.8462\n",
            "Epoch 51/100\n",
            "17/17 [==============================] - 122s 7s/step - loss: 0.1428 - accuracy: 0.9593 - val_loss: 0.7127 - val_accuracy: 0.8538\n",
            "Epoch 52/100\n",
            "17/17 [==============================] - 128s 8s/step - loss: 0.0878 - accuracy: 0.9729 - val_loss: 0.6786 - val_accuracy: 0.8538\n",
            "Epoch 53/100\n",
            "17/17 [==============================] - 122s 7s/step - loss: 0.0716 - accuracy: 0.9806 - val_loss: 0.6747 - val_accuracy: 0.8385\n",
            "Epoch 54/100\n",
            "17/17 [==============================] - 122s 7s/step - loss: 0.1167 - accuracy: 0.9709 - val_loss: 0.6367 - val_accuracy: 0.8615\n",
            "Epoch 55/100\n",
            "17/17 [==============================] - 123s 7s/step - loss: 0.1257 - accuracy: 0.9632 - val_loss: 0.6580 - val_accuracy: 0.8385\n",
            "Epoch 56/100\n",
            "17/17 [==============================] - 122s 7s/step - loss: 0.1165 - accuracy: 0.9748 - val_loss: 0.6629 - val_accuracy: 0.8231\n",
            "Epoch 57/100\n",
            "17/17 [==============================] - 122s 7s/step - loss: 0.0739 - accuracy: 0.9826 - val_loss: 1.0479 - val_accuracy: 0.7615\n",
            "Epoch 58/100\n",
            "17/17 [==============================] - 128s 8s/step - loss: 0.1788 - accuracy: 0.9516 - val_loss: 0.8133 - val_accuracy: 0.8538\n",
            "Epoch 59/100\n",
            "17/17 [==============================] - 122s 7s/step - loss: 0.1779 - accuracy: 0.9593 - val_loss: 0.7911 - val_accuracy: 0.8385\n",
            "Epoch 60/100\n",
            "17/17 [==============================] - 122s 7s/step - loss: 0.1645 - accuracy: 0.9671 - val_loss: 0.8204 - val_accuracy: 0.8308\n",
            "Epoch 61/100\n",
            "17/17 [==============================] - 127s 7s/step - loss: 0.1394 - accuracy: 0.9729 - val_loss: 1.1184 - val_accuracy: 0.7923\n",
            "Epoch 62/100\n",
            "17/17 [==============================] - 122s 7s/step - loss: 0.1405 - accuracy: 0.9593 - val_loss: 0.7759 - val_accuracy: 0.8308\n",
            "Epoch 63/100\n",
            "17/17 [==============================] - 122s 7s/step - loss: 0.2040 - accuracy: 0.9419 - val_loss: 1.0600 - val_accuracy: 0.8462\n",
            "Epoch 64/100\n",
            "17/17 [==============================] - 122s 7s/step - loss: 0.2003 - accuracy: 0.9496 - val_loss: 1.1735 - val_accuracy: 0.8538\n",
            "Epoch 65/100\n",
            "17/17 [==============================] - 122s 7s/step - loss: 0.1116 - accuracy: 0.9729 - val_loss: 0.8823 - val_accuracy: 0.8385\n",
            "Epoch 66/100\n",
            "17/17 [==============================] - 121s 7s/step - loss: 0.1638 - accuracy: 0.9690 - val_loss: 0.9452 - val_accuracy: 0.8538\n",
            "Epoch 67/100\n",
            "17/17 [==============================] - 122s 7s/step - loss: 0.0897 - accuracy: 0.9729 - val_loss: 0.9306 - val_accuracy: 0.8615\n",
            "Epoch 68/100\n",
            "17/17 [==============================] - 122s 7s/step - loss: 0.1686 - accuracy: 0.9690 - val_loss: 0.9940 - val_accuracy: 0.8385\n",
            "Epoch 69/100\n",
            "17/17 [==============================] - 122s 7s/step - loss: 0.1360 - accuracy: 0.9612 - val_loss: 0.9049 - val_accuracy: 0.8462\n",
            "Epoch 70/100\n",
            "17/17 [==============================] - 122s 7s/step - loss: 0.3024 - accuracy: 0.9438 - val_loss: 1.0715 - val_accuracy: 0.8462\n",
            "Epoch 71/100\n",
            "17/17 [==============================] - 122s 7s/step - loss: 0.1387 - accuracy: 0.9593 - val_loss: 1.0137 - val_accuracy: 0.8231\n",
            "Epoch 72/100\n",
            "17/17 [==============================] - 123s 7s/step - loss: 0.1127 - accuracy: 0.9574 - val_loss: 0.9780 - val_accuracy: 0.8308\n",
            "Epoch 73/100\n",
            "17/17 [==============================] - 122s 7s/step - loss: 0.1570 - accuracy: 0.9632 - val_loss: 0.7950 - val_accuracy: 0.8615\n",
            "Epoch 74/100\n",
            "17/17 [==============================] - 122s 7s/step - loss: 0.1040 - accuracy: 0.9787 - val_loss: 0.7966 - val_accuracy: 0.8462\n",
            "Epoch 75/100\n",
            "17/17 [==============================] - 124s 7s/step - loss: 0.0876 - accuracy: 0.9806 - val_loss: 0.8127 - val_accuracy: 0.8462\n",
            "Epoch 76/100\n",
            "17/17 [==============================] - 124s 7s/step - loss: 0.0739 - accuracy: 0.9806 - val_loss: 0.9551 - val_accuracy: 0.8077\n",
            "Epoch 77/100\n",
            "17/17 [==============================] - 128s 8s/step - loss: 0.1366 - accuracy: 0.9632 - val_loss: 0.8784 - val_accuracy: 0.8308\n",
            "Epoch 78/100\n",
            "17/17 [==============================] - 124s 7s/step - loss: 0.1419 - accuracy: 0.9690 - val_loss: 0.9403 - val_accuracy: 0.8308\n",
            "Epoch 79/100\n",
            "17/17 [==============================] - 125s 7s/step - loss: 0.0826 - accuracy: 0.9806 - val_loss: 0.8465 - val_accuracy: 0.8308\n",
            "Epoch 80/100\n",
            "17/17 [==============================] - 130s 8s/step - loss: 0.0997 - accuracy: 0.9748 - val_loss: 0.8292 - val_accuracy: 0.8538\n",
            "Epoch 81/100\n",
            "17/17 [==============================] - 124s 7s/step - loss: 0.0800 - accuracy: 0.9806 - val_loss: 1.3188 - val_accuracy: 0.8385\n",
            "Epoch 82/100\n",
            "17/17 [==============================] - 127s 7s/step - loss: 0.4684 - accuracy: 0.9109 - val_loss: 1.0709 - val_accuracy: 0.8692\n",
            "Epoch 83/100\n",
            "17/17 [==============================] - 123s 7s/step - loss: 0.1865 - accuracy: 0.9612 - val_loss: 0.8648 - val_accuracy: 0.8538\n",
            "Epoch 84/100\n",
            "17/17 [==============================] - 123s 7s/step - loss: 0.1984 - accuracy: 0.9632 - val_loss: 0.8067 - val_accuracy: 0.8538\n",
            "Epoch 85/100\n",
            "17/17 [==============================] - 122s 7s/step - loss: 0.5199 - accuracy: 0.9167 - val_loss: 2.1969 - val_accuracy: 0.7308\n",
            "Epoch 86/100\n",
            "17/17 [==============================] - 122s 7s/step - loss: 0.8424 - accuracy: 0.8663 - val_loss: 2.1585 - val_accuracy: 0.7231\n",
            "Epoch 87/100\n",
            "17/17 [==============================] - 122s 7s/step - loss: 0.2212 - accuracy: 0.9593 - val_loss: 1.4168 - val_accuracy: 0.7846\n",
            "Epoch 88/100\n",
            "17/17 [==============================] - 122s 7s/step - loss: 0.2047 - accuracy: 0.9671 - val_loss: 1.4262 - val_accuracy: 0.7923\n",
            "Epoch 89/100\n",
            "17/17 [==============================] - 121s 7s/step - loss: 0.1570 - accuracy: 0.9709 - val_loss: 0.9961 - val_accuracy: 0.8538\n",
            "Epoch 90/100\n",
            "17/17 [==============================] - 121s 7s/step - loss: 0.1147 - accuracy: 0.9709 - val_loss: 0.9494 - val_accuracy: 0.8462\n",
            "Epoch 91/100\n",
            "17/17 [==============================] - 121s 7s/step - loss: 0.1984 - accuracy: 0.9690 - val_loss: 0.9596 - val_accuracy: 0.8385\n",
            "Epoch 92/100\n",
            "17/17 [==============================] - 120s 7s/step - loss: 0.2231 - accuracy: 0.9574 - val_loss: 3.4082 - val_accuracy: 0.6538\n",
            "Epoch 93/100\n",
            "17/17 [==============================] - 121s 7s/step - loss: 0.5221 - accuracy: 0.9147 - val_loss: 1.5427 - val_accuracy: 0.8077\n",
            "Epoch 94/100\n",
            "17/17 [==============================] - 129s 8s/step - loss: 0.2791 - accuracy: 0.9651 - val_loss: 2.3751 - val_accuracy: 0.7077\n",
            "Epoch 95/100\n",
            "17/17 [==============================] - 121s 7s/step - loss: 0.1384 - accuracy: 0.9612 - val_loss: 1.3463 - val_accuracy: 0.8154\n",
            "Epoch 96/100\n",
            "17/17 [==============================] - 121s 7s/step - loss: 0.1941 - accuracy: 0.9496 - val_loss: 1.4864 - val_accuracy: 0.8385\n",
            "Epoch 97/100\n",
            "17/17 [==============================] - 121s 7s/step - loss: 0.1672 - accuracy: 0.9535 - val_loss: 1.3791 - val_accuracy: 0.8615\n",
            "Epoch 98/100\n",
            "17/17 [==============================] - 121s 7s/step - loss: 0.1602 - accuracy: 0.9709 - val_loss: 1.2518 - val_accuracy: 0.8385\n",
            "Epoch 99/100\n",
            "17/17 [==============================] - 120s 7s/step - loss: 0.1134 - accuracy: 0.9690 - val_loss: 1.0903 - val_accuracy: 0.8462\n",
            "Epoch 100/100\n",
            "17/17 [==============================] - 121s 7s/step - loss: 0.1530 - accuracy: 0.9671 - val_loss: 1.0821 - val_accuracy: 0.8462\n"
          ],
          "name": "stdout"
        }
      ]
    },
    {
      "cell_type": "code",
      "metadata": {
        "colab": {
          "base_uri": "https://localhost:8080/",
          "height": 295
        },
        "id": "6Iej3j-EaAzt",
        "outputId": "88b0cd36-dbc0-4374-dbff-ce7b6e55aae9"
      },
      "source": [
        "plt.plot(r.history['accuracy'], label='train acc')\n",
        "plt.plot(r.history['val_accuracy'], label='val acc')\n",
        "plt.title('model accuracy')\n",
        "plt.ylabel('accuracy')\n",
        "plt.xlabel('epoch')\n",
        "plt.legend()\n",
        "plt.show()"
      ],
      "execution_count": null,
      "outputs": [
        {
          "output_type": "display_data",
          "data": {
            "image/png": "[encoded data removed]",
            "text/plain": [
              "<Figure size 432x288 with 1 Axes>"
            ]
          },
          "metadata": {
            "tags": [],
            "needs_background": "light"
          }
        }
      ]
    },
    {
      "cell_type": "code",
      "metadata": {
        "id": "elc_csC8mfOJ"
      },
      "source": [
        "plt.plot(r.history['loss'], label='train loss')\r\n",
        "plt.plot(r.history['val_loss'], label='val loss')\r\n",
        "plt.title('model loss')\r\n",
        "plt.ylabel('loss')\r\n",
        "plt.xlabel('epoch')\r\n",
        "plt.legend()\r\n",
        "plt.show()"
      ],
      "execution_count": null,
      "outputs": []
    },
    {
      "cell_type": "code",
      "metadata": {
        "id": "ZNjIEPExm1Zi"
      },
      "source": [
        "scores = model.evaluate_generator(training_set,17) \r\n",
        "print(\"train_accuracy = \", scores[1])"
      ],
      "execution_count": null,
      "outputs": []
    },
    {
      "cell_type": "code",
      "metadata": {
        "id": "j1o3Mwfam6KA"
      },
      "source": [
        "scores = model.evaluate_generator(test_set,17) \r\n",
        "print(\"val_accuracy = \", scores[1])"
      ],
      "execution_count": null,
      "outputs": []
    },
    {
      "cell_type": "code",
      "metadata": {
        "id": "zyC3LFMVnCC4"
      },
      "source": [
        "prediction = model.predict_generator(test_set, steps=5 )"
      ],
      "execution_count": null,
      "outputs": []
    },
    {
      "cell_type": "code",
      "metadata": {
        "id": "At1pk_4knWlm"
      },
      "source": [
        "rounded_prediction = np.argmax(prediction, axis=-1)"
      ],
      "execution_count": null,
      "outputs": []
    },
    {
      "cell_type": "code",
      "metadata": {
        "id": "SbW5Ufejnbg6"
      },
      "source": [
        "true_categories_argmax = np.argmax(y_test, axis = 1)"
      ],
      "execution_count": null,
      "outputs": []
    },
    {
      "cell_type": "code",
      "metadata": {
        "id": "L6_sKW3hnmzg"
      },
      "source": [
        "%matplotlib inline\r\n",
        "from sklearn.metrics import confusion_matrix\r\n",
        "import itertools"
      ],
      "execution_count": null,
      "outputs": []
    },
    {
      "cell_type": "code",
      "metadata": {
        "id": "caJKIOTUno0H"
      },
      "source": [
        "cm = confusion_matrix(y_true=true_categories_argmax , y_pred=rounded_prediction)"
      ],
      "execution_count": null,
      "outputs": []
    },
    {
      "cell_type": "code",
      "metadata": {
        "id": "fOMDts96n0eW"
      },
      "source": [
        "def plot_confusion_matrix(cm, num_classes,\r\n",
        "                        normalize=False,\r\n",
        "                        title='Confusion matrix',\r\n",
        "                        cmap=plt.cm.Blues):\r\n",
        "    \"\"\"\r\n",
        "    This function prints and plots the confusion matrix.\r\n",
        "    Normalization can be applied by setting `normalize=True`.\r\n",
        "    \"\"\"\r\n",
        "    plt.imshow(cm, interpolation='nearest', cmap=cmap)\r\n",
        "    plt.title(title)\r\n",
        "    plt.colorbar()\r\n",
        "    tick_marks = np.arange(len(num_classes))\r\n",
        "    plt.xticks(tick_marks, num_classes, rotation=45)\r\n",
        "    plt.yticks(tick_marks, num_classes)\r\n",
        "\r\n",
        "    if normalize:\r\n",
        "        cm = cm.astype('float') / cm.sum(axis=1)[:, np.newaxis]\r\n",
        "        print(\"Normalized confusion matrix\")\r\n",
        "    else:\r\n",
        "        print('Confusion matrix, without normalization')\r\n",
        "\r\n",
        "    print(cm)\r\n",
        "\r\n",
        "    thresh = cm.max() / 2.\r\n",
        "    for i, j in itertools.product(range(cm.shape[0]), range(cm.shape[1])):\r\n",
        "        plt.text(j, i, cm[i, j],\r\n",
        "            horizontalalignment=\"center\",\r\n",
        "            color=\"white\" if cm[i, j] > thresh else \"black\")\r\n",
        "\r\n",
        "    plt.tight_layout()\r\n",
        "    plt.ylabel('True label')\r\n",
        "    plt.xlabel('Predicted label')"
      ],
      "execution_count": null,
      "outputs": []
    },
    {
      "cell_type": "code",
      "metadata": {
        "id": "yVfYz_Nxn3Ts"
      },
      "source": [
        "cm_plot_labels = ['benign', 'malignant']"
      ],
      "execution_count": null,
      "outputs": []
    },
    {
      "cell_type": "code",
      "metadata": {
        "id": "RtT5FCmMn_5X"
      },
      "source": [
        "plot_confusion_matrix(cm, cm_plot_labels, title='Confusion Matrix')"
      ],
      "execution_count": null,
      "outputs": []
    },
    {
      "cell_type": "code",
      "metadata": {
        "id": "5RqBFLLAoCUn"
      },
      "source": [
        "from sklearn.metrics import classification_report"
      ],
      "execution_count": null,
      "outputs": []
    },
    {
      "cell_type": "code",
      "metadata": {
        "id": "FB3sHLE7oMiP"
      },
      "source": [
        "report = classification_report(true_categories_argmax, rounded_prediction, target_names=cm_plot_labels)"
      ],
      "execution_count": null,
      "outputs": []
    },
    {
      "cell_type": "code",
      "metadata": {
        "id": "xiTN5H2doOp6"
      },
      "source": [
        " print(report)"
      ],
      "execution_count": null,
      "outputs": []
    }
  ]
}